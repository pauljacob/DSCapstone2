{
 "cells": [
  {
   "cell_type": "code",
   "execution_count": null,
   "id": "e11feb60",
   "metadata": {},
   "outputs": [],
   "source": []
  },
  {
   "cell_type": "code",
   "execution_count": 1,
   "id": "a5d15a1d",
   "metadata": {},
   "outputs": [],
   "source": [
    "#python classes and inheritance\n",
    "\n",
    "#lambda function - anonymous function\n",
    "pi = lambda x: x*3.14"
   ]
  },
  {
   "cell_type": "code",
   "execution_count": 2,
   "id": "6aada6a2",
   "metadata": {},
   "outputs": [],
   "source": [
    "return_value = pi(2)"
   ]
  },
  {
   "cell_type": "code",
   "execution_count": 3,
   "id": "3861eecc",
   "metadata": {},
   "outputs": [
    {
     "name": "stdout",
     "output_type": "stream",
     "text": [
      "6.28\n"
     ]
    }
   ],
   "source": [
    "print(return_value)"
   ]
  },
  {
   "cell_type": "code",
   "execution_count": 4,
   "id": "98aeb032",
   "metadata": {},
   "outputs": [
    {
     "data": {
      "text/plain": [
       "6.28"
      ]
     },
     "execution_count": 4,
     "metadata": {},
     "output_type": "execute_result"
    }
   ],
   "source": [
    "3.14 * 2"
   ]
  },
  {
   "cell_type": "markdown",
   "id": "33cf215a",
   "metadata": {},
   "source": [
    "# 5. Classes"
   ]
  },
  {
   "cell_type": "code",
   "execution_count": 5,
   "id": "8c48af23",
   "metadata": {},
   "outputs": [],
   "source": [
    "# Classes as boilerplates for objects\n",
    "class Person():\n",
    "    # The method that rus as soon as you create a class - initialise\n",
    "    def __init__(self, name, age, color):\n",
    "        # Create some attributes for our person class\n",
    "        self.name = name\n",
    "        self.age = age\n",
    "        self.color = color\n",
    "        \n",
    "    # Date of birth method\n",
    "    def year_of_birth(self):\n",
    "        return 2021-self.age\n",
    "    \n",
    "    # Projected age\n",
    "    def project_age(self, years=5):\n",
    "        return self.age+years\n",
    "        \n",
    "        "
   ]
  },
  {
   "cell_type": "code",
   "execution_count": 6,
   "id": "a6677c4b",
   "metadata": {},
   "outputs": [],
   "source": [
    "new_person = Person(name='Elon Musk', age=38, color='blue')\n"
   ]
  },
  {
   "cell_type": "code",
   "execution_count": 7,
   "id": "aa1a34c3",
   "metadata": {},
   "outputs": [
    {
     "data": {
      "text/plain": [
       "38"
      ]
     },
     "execution_count": 7,
     "metadata": {},
     "output_type": "execute_result"
    }
   ],
   "source": [
    "# Accessing a class attribute\n",
    "#new_person.name\n",
    "#new_person.color\n",
    "new_person.age"
   ]
  },
  {
   "cell_type": "code",
   "execution_count": 8,
   "id": "e0836bc0",
   "metadata": {},
   "outputs": [
    {
     "data": {
      "text/plain": [
       "1983"
      ]
     },
     "execution_count": 8,
     "metadata": {},
     "output_type": "execute_result"
    }
   ],
   "source": [
    "# Run a method\n",
    "new_person.year_of_birth()"
   ]
  },
  {
   "cell_type": "code",
   "execution_count": 9,
   "id": "39c50125",
   "metadata": {},
   "outputs": [
    {
     "data": {
      "text/plain": [
       "48"
      ]
     },
     "execution_count": 9,
     "metadata": {},
     "output_type": "execute_result"
    }
   ],
   "source": [
    "# Run a method with a keyword argument\n",
    "new_person.project_age(years=10)"
   ]
  },
  {
   "cell_type": "markdown",
   "id": "31d473e2",
   "metadata": {},
   "source": [
    "# 6. Inheritance\n",
    " - PARENT is the class passing down attributes and methods\n",
    " - CHILD is the class inheriting the methods and attributes\n"
   ]
  },
  {
   "cell_type": "code",
   "execution_count": 10,
   "id": "2238bf86",
   "metadata": {},
   "outputs": [],
   "source": [
    "# Create a child class\n",
    "class Astronaut(Person):\n",
    "    \n",
    "    #Define initialization function\n",
    "    def __init__(self, name, age, color, mission_length_in_months):\n",
    "        # This is what gives us inheritance - SUPER METHOD\n",
    "        super().__init__(name, age, color)\n",
    "        self.mission_length_in_months = mission_length_in_months\n",
    "        \n",
    "    def age_on_return(self):\n",
    "        return self.project_age(years=int(self.mission_length_in_months/12))"
   ]
  },
  {
   "cell_type": "code",
   "execution_count": 11,
   "id": "7218a5e3",
   "metadata": {},
   "outputs": [],
   "source": [
    "new_astronaut = Astronaut(name='Nick', age=99, color='purple', mission_length_in_months=48)\n"
   ]
  },
  {
   "cell_type": "code",
   "execution_count": 12,
   "id": "e54bdb6b",
   "metadata": {},
   "outputs": [
    {
     "data": {
      "text/plain": [
       "'purple'"
      ]
     },
     "execution_count": 12,
     "metadata": {},
     "output_type": "execute_result"
    }
   ],
   "source": [
    "new_astronaut.color"
   ]
  },
  {
   "cell_type": "code",
   "execution_count": 13,
   "id": "29ccd7ca",
   "metadata": {},
   "outputs": [
    {
     "data": {
      "text/plain": [
       "1922"
      ]
     },
     "execution_count": 13,
     "metadata": {},
     "output_type": "execute_result"
    }
   ],
   "source": [
    "new_astronaut.year_of_birth()"
   ]
  },
  {
   "cell_type": "code",
   "execution_count": 14,
   "id": "e7fb8021",
   "metadata": {},
   "outputs": [
    {
     "data": {
      "text/plain": [
       "103"
      ]
     },
     "execution_count": 14,
     "metadata": {},
     "output_type": "execute_result"
    }
   ],
   "source": [
    "new_astronaut.age_on_return()"
   ]
  },
  {
   "cell_type": "code",
   "execution_count": null,
   "id": "59cc4fe3",
   "metadata": {},
   "outputs": [],
   "source": []
  },
  {
   "cell_type": "code",
   "execution_count": 15,
   "id": "5a50bd5f",
   "metadata": {
    "scrolled": true
   },
   "outputs": [
    {
     "name": "stdout",
     "output_type": "stream",
     "text": [
      "Feature 5 working\n"
     ]
    }
   ],
   "source": [
    "class A:\n",
    "    def feature1(self):\n",
    "        print('Feature 1 working')\n",
    "        \n",
    "    def feature2(self):\n",
    "        print('Feature 2 working')\n",
    "        \n",
    "class B:\n",
    "    def feature3(self):\n",
    "        print('Feature 3 working')\n",
    "        \n",
    "    def feature4(self):\n",
    "        print('Feature 4 working')\n",
    "\n",
    "        \n",
    "class C(A,B):\n",
    "    def feature5(self):\n",
    "        print('Feature 5 working')\n",
    "         \n",
    "# class D(A,B):\n",
    "#     def feature6(self):\n",
    "#         print('Feature 6 working')\n",
    "\n",
    "            \n",
    "        \n",
    "a1 = A()\n",
    "\n",
    "b1 = B()\n",
    "\n",
    "c1 = C()\n",
    "c1.feature5()\n",
    "\n",
    "# d1 = D()\n",
    "# d1.feature6()"
   ]
  },
  {
   "cell_type": "code",
   "execution_count": null,
   "id": "f36126e2",
   "metadata": {},
   "outputs": [],
   "source": []
  },
  {
   "cell_type": "code",
   "execution_count": null,
   "id": "95ab8fc7",
   "metadata": {},
   "outputs": [],
   "source": []
  },
  {
   "cell_type": "code",
   "execution_count": null,
   "id": "af7bfa2f",
   "metadata": {},
   "outputs": [],
   "source": []
  },
  {
   "cell_type": "code",
   "execution_count": null,
   "id": "504c20af",
   "metadata": {},
   "outputs": [],
   "source": []
  },
  {
   "cell_type": "code",
   "execution_count": null,
   "id": "a21e7a29",
   "metadata": {},
   "outputs": [],
   "source": []
  },
  {
   "cell_type": "code",
   "execution_count": null,
   "id": "a24e25ef",
   "metadata": {},
   "outputs": [],
   "source": []
  },
  {
   "cell_type": "code",
   "execution_count": null,
   "id": "478b1c1f",
   "metadata": {},
   "outputs": [],
   "source": []
  },
  {
   "cell_type": "code",
   "execution_count": null,
   "id": "9cef5a43",
   "metadata": {},
   "outputs": [],
   "source": []
  },
  {
   "cell_type": "code",
   "execution_count": null,
   "id": "d56e7ccb",
   "metadata": {},
   "outputs": [],
   "source": []
  },
  {
   "cell_type": "code",
   "execution_count": null,
   "id": "3f4ccee1",
   "metadata": {},
   "outputs": [],
   "source": []
  },
  {
   "cell_type": "code",
   "execution_count": null,
   "id": "94ada419",
   "metadata": {},
   "outputs": [],
   "source": []
  },
  {
   "cell_type": "code",
   "execution_count": null,
   "id": "dc342ec6",
   "metadata": {},
   "outputs": [],
   "source": []
  },
  {
   "cell_type": "code",
   "execution_count": null,
   "id": "fe442b50",
   "metadata": {},
   "outputs": [],
   "source": []
  },
  {
   "cell_type": "code",
   "execution_count": null,
   "id": "64c3e97a",
   "metadata": {},
   "outputs": [],
   "source": []
  },
  {
   "cell_type": "code",
   "execution_count": null,
   "id": "93033f46",
   "metadata": {},
   "outputs": [],
   "source": []
  },
  {
   "cell_type": "code",
   "execution_count": null,
   "id": "57d0c5c5",
   "metadata": {},
   "outputs": [],
   "source": []
  }
 ],
 "metadata": {
  "kernelspec": {
   "display_name": "Python 3 (ipykernel)",
   "language": "python",
   "name": "python3"
  },
  "language_info": {
   "codemirror_mode": {
    "name": "ipython",
    "version": 3
   },
   "file_extension": ".py",
   "mimetype": "text/x-python",
   "name": "python",
   "nbconvert_exporter": "python",
   "pygments_lexer": "ipython3",
   "version": "3.9.12"
  }
 },
 "nbformat": 4,
 "nbformat_minor": 5
}
