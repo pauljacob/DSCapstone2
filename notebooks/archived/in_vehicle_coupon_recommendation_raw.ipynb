{
 "cells": [
  {
   "cell_type": "code",
   "execution_count": null,
   "id": "5b91012c",
   "metadata": {},
   "outputs": [],
   "source": []
  },
  {
   "cell_type": "code",
   "execution_count": null,
   "id": "e14fe9ac",
   "metadata": {},
   "outputs": [],
   "source": []
  },
  {
   "cell_type": "code",
   "execution_count": null,
   "id": "cf69e358",
   "metadata": {},
   "outputs": [],
   "source": []
  },
  {
   "cell_type": "code",
   "execution_count": null,
   "id": "6b92d0b8",
   "metadata": {},
   "outputs": [],
   "source": []
  },
  {
   "cell_type": "markdown",
   "id": "6ee4c61e",
   "metadata": {},
   "source": [
    "<font size=\"6\"><a id='[Data_Wrangling]'>**Data Wrangling**</a> </font>"
   ]
  },
  {
   "cell_type": "code",
   "execution_count": null,
   "id": "218dfa4b",
   "metadata": {},
   "outputs": [],
   "source": [
    "#create survey participant id by uniqueness of demographics?????? - not really, becauase of demographic overlap when using categories in survey responses\n",
    "\n",
    "demographic_feature_column_name_list = ['gender', 'age', 'maritalStatus', 'has_children', 'education', 'occupation', 'income',\n",
    "                                        'Bar', 'CoffeeHouse', 'CarryAway', 'RestaurantLessThan20', 'Restaurant20To50', 'car']\n",
    "\n",
    "print(df.loc[:, demographic_feature_column_name_list].drop_duplicates().shape[0])\n",
    "df.groupby(demographic_feature_column_name_list).agg('count').reset_index().loc[:,demographic_feature_column_name_list+['destination']].rename(columns={'destination':'count'})\n"
   ]
  },
  {
   "cell_type": "code",
   "execution_count": null,
   "id": "b64f2921",
   "metadata": {},
   "outputs": [],
   "source": []
  },
  {
   "cell_type": "code",
   "execution_count": null,
   "id": "1822b1ad",
   "metadata": {},
   "outputs": [],
   "source": []
  },
  {
   "cell_type": "code",
   "execution_count": null,
   "id": "acddad68",
   "metadata": {},
   "outputs": [],
   "source": []
  },
  {
   "cell_type": "code",
   "execution_count": null,
   "id": "7474e779",
   "metadata": {},
   "outputs": [],
   "source": []
  },
  {
   "cell_type": "code",
   "execution_count": null,
   "id": "a64c5b55",
   "metadata": {},
   "outputs": [],
   "source": []
  },
  {
   "cell_type": "code",
   "execution_count": null,
   "id": "5c498021",
   "metadata": {},
   "outputs": [],
   "source": []
  }
 ],
 "metadata": {
  "kernelspec": {
   "display_name": "Python 3 (ipykernel)",
   "language": "python",
   "name": "python3"
  },
  "language_info": {
   "codemirror_mode": {
    "name": "ipython",
    "version": 3
   },
   "file_extension": ".py",
   "mimetype": "text/x-python",
   "name": "python",
   "nbconvert_exporter": "python",
   "pygments_lexer": "ipython3",
   "version": "3.9.12"
  }
 },
 "nbformat": 4,
 "nbformat_minor": 5
}
