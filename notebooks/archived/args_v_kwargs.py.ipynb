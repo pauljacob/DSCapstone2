{
 "cells": [
  {
   "cell_type": "code",
   "execution_count": null,
   "id": "80449de5",
   "metadata": {},
   "outputs": [],
   "source": []
  },
  {
   "cell_type": "code",
   "execution_count": null,
   "id": "41b8d87b",
   "metadata": {},
   "outputs": [],
   "source": [
    "def my_func(*args):\n",
    "    print('hello world', args)\n",
    "    \n",
    "my_func('abc')"
   ]
  },
  {
   "cell_type": "code",
   "execution_count": null,
   "id": "805a14f2",
   "metadata": {},
   "outputs": [],
   "source": []
  },
  {
   "cell_type": "code",
   "execution_count": 1,
   "id": "3b59abc3",
   "metadata": {},
   "outputs": [
    {
     "name": "stdout",
     "output_type": "stream",
     "text": [
      "{'goku': 9001, 'krillin': 1500, 'piccolo': 2500}\n"
     ]
    }
   ],
   "source": [
    "# use **kwargs to pass any #of named arguments to a function\n",
    "# **kwargs become a dictionary you can use in the function:\n",
    "\n",
    "def print_kwargs(**kwargs):\n",
    "    print(kwargs)\n",
    "    \n",
    "print_kwargs(goku=9001, krillin=1500, piccolo=2500)"
   ]
  },
  {
   "cell_type": "code",
   "execution_count": null,
   "id": "4eade40d",
   "metadata": {},
   "outputs": [],
   "source": []
  },
  {
   "cell_type": "code",
   "execution_count": 5,
   "id": "d0a5330e",
   "metadata": {},
   "outputs": [
    {
     "name": "stdout",
     "output_type": "stream",
     "text": [
      "['goku', 'krillin', 'piccolo']\n",
      "[9001, 1500, 2500]\n"
     ]
    }
   ],
   "source": [
    "def extract_kwargs(**kwargs):\n",
    "    \n",
    "    #Extract and print keys\n",
    "    print([*kwargs])\n",
    "    #Extract and print values\n",
    "    print([*kwargs.values()])\n",
    "\n",
    "extract_kwargs(goku=9001, krillin=1500, piccolo=2500)"
   ]
  },
  {
   "cell_type": "code",
   "execution_count": null,
   "id": "180cdd84",
   "metadata": {},
   "outputs": [],
   "source": []
  },
  {
   "cell_type": "code",
   "execution_count": 6,
   "id": "577c26c2",
   "metadata": {},
   "outputs": [
    {
     "name": "stdout",
     "output_type": "stream",
     "text": [
      "{'goku': 9001, 'krillin': 1500, 'piccolo': 2500, 'DataDaft': 13839}\n"
     ]
    }
   ],
   "source": [
    "# Note that the \"**\" symbol is what is important\n",
    "# \"kwargs\" could be anything!\n",
    "\n",
    "def other_word_for_kwargs(**kw_params):\n",
    "    print(kw_params)\n",
    "    \n",
    "other_word_for_kwargs(goku=9001, krillin=1500, piccolo=2500, DataDaft=13839)"
   ]
  },
  {
   "cell_type": "code",
   "execution_count": null,
   "id": "4b151a0c",
   "metadata": {},
   "outputs": [],
   "source": []
  },
  {
   "cell_type": "code",
   "execution_count": null,
   "id": "689fbeba",
   "metadata": {},
   "outputs": [],
   "source": []
  },
  {
   "cell_type": "code",
   "execution_count": null,
   "id": "dcd51f98",
   "metadata": {},
   "outputs": [],
   "source": []
  }
 ],
 "metadata": {
  "kernelspec": {
   "display_name": "Python 3 (ipykernel)",
   "language": "python",
   "name": "python3"
  },
  "language_info": {
   "codemirror_mode": {
    "name": "ipython",
    "version": 3
   },
   "file_extension": ".py",
   "mimetype": "text/x-python",
   "name": "python",
   "nbconvert_exporter": "python",
   "pygments_lexer": "ipython3",
   "version": "3.9.12"
  }
 },
 "nbformat": 4,
 "nbformat_minor": 5
}
