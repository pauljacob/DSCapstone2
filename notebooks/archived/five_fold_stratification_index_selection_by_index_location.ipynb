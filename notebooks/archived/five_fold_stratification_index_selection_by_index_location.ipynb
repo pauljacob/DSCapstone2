{
 "cells": [
  {
   "cell_type": "code",
   "execution_count": 1,
   "id": "bd1e0503",
   "metadata": {},
   "outputs": [],
   "source": [
    "import pandas as pd\n",
    "from sklearn.model_selection import StratifiedKFold\n"
   ]
  },
  {
   "cell_type": "code",
   "execution_count": 2,
   "id": "9dfc9afa",
   "metadata": {},
   "outputs": [
    {
     "data": {
      "text/html": [
       "<div>\n",
       "<style scoped>\n",
       "    .dataframe tbody tr th:only-of-type {\n",
       "        vertical-align: middle;\n",
       "    }\n",
       "\n",
       "    .dataframe tbody tr th {\n",
       "        vertical-align: top;\n",
       "    }\n",
       "\n",
       "    .dataframe thead th {\n",
       "        text-align: right;\n",
       "    }\n",
       "</style>\n",
       "<table border=\"1\" class=\"dataframe\">\n",
       "  <thead>\n",
       "    <tr style=\"text-align: right;\">\n",
       "      <th></th>\n",
       "      <th>column1</th>\n",
       "      <th>column2</th>\n",
       "    </tr>\n",
       "  </thead>\n",
       "  <tbody>\n",
       "    <tr>\n",
       "      <th>0</th>\n",
       "      <td>1</td>\n",
       "      <td>0</td>\n",
       "    </tr>\n",
       "    <tr>\n",
       "      <th>1</th>\n",
       "      <td>2</td>\n",
       "      <td>0</td>\n",
       "    </tr>\n",
       "    <tr>\n",
       "      <th>2</th>\n",
       "      <td>3</td>\n",
       "      <td>0</td>\n",
       "    </tr>\n",
       "    <tr>\n",
       "      <th>3</th>\n",
       "      <td>4</td>\n",
       "      <td>0</td>\n",
       "    </tr>\n",
       "    <tr>\n",
       "      <th>4</th>\n",
       "      <td>5</td>\n",
       "      <td>0</td>\n",
       "    </tr>\n",
       "    <tr>\n",
       "      <th>5</th>\n",
       "      <td>6</td>\n",
       "      <td>1</td>\n",
       "    </tr>\n",
       "    <tr>\n",
       "      <th>6</th>\n",
       "      <td>7</td>\n",
       "      <td>1</td>\n",
       "    </tr>\n",
       "    <tr>\n",
       "      <th>7</th>\n",
       "      <td>8</td>\n",
       "      <td>1</td>\n",
       "    </tr>\n",
       "    <tr>\n",
       "      <th>8</th>\n",
       "      <td>9</td>\n",
       "      <td>1</td>\n",
       "    </tr>\n",
       "    <tr>\n",
       "      <th>9</th>\n",
       "      <td>10</td>\n",
       "      <td>1</td>\n",
       "    </tr>\n",
       "  </tbody>\n",
       "</table>\n",
       "</div>"
      ],
      "text/plain": [
       "   column1  column2\n",
       "0        1        0\n",
       "1        2        0\n",
       "2        3        0\n",
       "3        4        0\n",
       "4        5        0\n",
       "5        6        1\n",
       "6        7        1\n",
       "7        8        1\n",
       "8        9        1\n",
       "9       10        1"
      ]
     },
     "execution_count": 2,
     "metadata": {},
     "output_type": "execute_result"
    }
   ],
   "source": [
    "#index number confusion??? stratifiedkfold selects from ...\n",
    "\n",
    "df_feature_1_target_1 = pd.DataFrame({'column1':[1, 2, 3, 4, 5, 6, 7, 8, 9, 10], 'column2':[0, 0, 0, 0, 0, 1, 1, 1, 1, 1]})\n",
    "df_feature_1_target_1"
   ]
  },
  {
   "cell_type": "code",
   "execution_count": 3,
   "id": "4c075bbf",
   "metadata": {},
   "outputs": [
    {
     "data": {
      "text/html": [
       "<div>\n",
       "<style scoped>\n",
       "    .dataframe tbody tr th:only-of-type {\n",
       "        vertical-align: middle;\n",
       "    }\n",
       "\n",
       "    .dataframe tbody tr th {\n",
       "        vertical-align: top;\n",
       "    }\n",
       "\n",
       "    .dataframe thead th {\n",
       "        text-align: right;\n",
       "    }\n",
       "</style>\n",
       "<table border=\"1\" class=\"dataframe\">\n",
       "  <thead>\n",
       "    <tr style=\"text-align: right;\">\n",
       "      <th></th>\n",
       "      <th>column1</th>\n",
       "      <th>column2</th>\n",
       "    </tr>\n",
       "  </thead>\n",
       "  <tbody>\n",
       "    <tr>\n",
       "      <th>6</th>\n",
       "      <td>7</td>\n",
       "      <td>1</td>\n",
       "    </tr>\n",
       "    <tr>\n",
       "      <th>7</th>\n",
       "      <td>8</td>\n",
       "      <td>1</td>\n",
       "    </tr>\n",
       "    <tr>\n",
       "      <th>0</th>\n",
       "      <td>1</td>\n",
       "      <td>0</td>\n",
       "    </tr>\n",
       "    <tr>\n",
       "      <th>2</th>\n",
       "      <td>3</td>\n",
       "      <td>0</td>\n",
       "    </tr>\n",
       "    <tr>\n",
       "      <th>3</th>\n",
       "      <td>4</td>\n",
       "      <td>0</td>\n",
       "    </tr>\n",
       "    <tr>\n",
       "      <th>1</th>\n",
       "      <td>2</td>\n",
       "      <td>0</td>\n",
       "    </tr>\n",
       "    <tr>\n",
       "      <th>9</th>\n",
       "      <td>10</td>\n",
       "      <td>1</td>\n",
       "    </tr>\n",
       "    <tr>\n",
       "      <th>8</th>\n",
       "      <td>9</td>\n",
       "      <td>1</td>\n",
       "    </tr>\n",
       "    <tr>\n",
       "      <th>4</th>\n",
       "      <td>5</td>\n",
       "      <td>0</td>\n",
       "    </tr>\n",
       "    <tr>\n",
       "      <th>5</th>\n",
       "      <td>6</td>\n",
       "      <td>1</td>\n",
       "    </tr>\n",
       "  </tbody>\n",
       "</table>\n",
       "</div>"
      ],
      "text/plain": [
       "   column1  column2\n",
       "6        7        1\n",
       "7        8        1\n",
       "0        1        0\n",
       "2        3        0\n",
       "3        4        0\n",
       "1        2        0\n",
       "9       10        1\n",
       "8        9        1\n",
       "4        5        0\n",
       "5        6        1"
      ]
     },
     "execution_count": 3,
     "metadata": {},
     "output_type": "execute_result"
    }
   ],
   "source": [
    "df_feature_1_target_1_shuffle = df_feature_1_target_1.sample(frac=1)\n",
    "df_feature_1_target_1_shuffle"
   ]
  },
  {
   "cell_type": "code",
   "execution_count": 4,
   "id": "63fbdf64",
   "metadata": {},
   "outputs": [
    {
     "name": "stdout",
     "output_type": "stream",
     "text": [
      "0\n",
      "train_index: [1 3 4 5 6 7 8 9]\n",
      "test_index: [0 2]\n",
      "1\n",
      "train_index: [0 2 4 5 6 7 8 9]\n",
      "test_index: [1 3]\n",
      "2\n",
      "train_index: [0 1 2 3 5 7 8 9]\n",
      "test_index: [4 6]\n",
      "3\n",
      "train_index: [0 1 2 3 4 6 8 9]\n",
      "test_index: [5 7]\n",
      "4\n",
      "train_index: [0 1 2 3 4 5 6 7]\n",
      "test_index: [8 9]\n"
     ]
    }
   ],
   "source": [
    "StratifiedKFold_5_splits = StratifiedKFold(n_splits=5, random_state=None, shuffle=False)\n",
    "    \n",
    "for index, (train_index, test_index) in enumerate(StratifiedKFold_5_splits.split(df_feature_1_target_1_shuffle.loc[:, 'column1'], df_feature_1_target_1_shuffle.loc[:, 'column2'])):\n",
    "    print(index)\n",
    "    print('train_index: '+ str(train_index))\n",
    "    print('test_index: '+ str(test_index))\n"
   ]
  },
  {
   "cell_type": "code",
   "execution_count": 5,
   "id": "d09ce03c",
   "metadata": {},
   "outputs": [
    {
     "name": "stdout",
     "output_type": "stream",
     "text": [
      "0\n",
      "train_index: [1 2 3 4 6 7 8 9]\n",
      "test_index: [0 5]\n",
      "1\n",
      "train_index: [0 2 3 4 5 7 8 9]\n",
      "test_index: [1 6]\n",
      "2\n",
      "train_index: [0 1 3 4 5 6 8 9]\n",
      "test_index: [2 7]\n",
      "3\n",
      "train_index: [0 1 2 4 5 6 7 9]\n",
      "test_index: [3 8]\n",
      "4\n",
      "train_index: [0 1 2 3 5 6 7 8]\n",
      "test_index: [4 9]\n"
     ]
    }
   ],
   "source": [
    "for index, (train_index, test_index) in enumerate(StratifiedKFold_5_splits.split(df_feature_1_target_1.loc[:, 'column1'], df_feature_1_target_1.loc[:, 'column2'])):\n",
    "    print(index)\n",
    "    print('train_index: '+ str(train_index))\n",
    "    print('test_index: '+ str(test_index))\n",
    "    "
   ]
  },
  {
   "cell_type": "code",
   "execution_count": null,
   "id": "41e1264e",
   "metadata": {},
   "outputs": [],
   "source": []
  }
 ],
 "metadata": {
  "kernelspec": {
   "display_name": "Python 3 (ipykernel)",
   "language": "python",
   "name": "python3"
  },
  "language_info": {
   "codemirror_mode": {
    "name": "ipython",
    "version": 3
   },
   "file_extension": ".py",
   "mimetype": "text/x-python",
   "name": "python",
   "nbconvert_exporter": "python",
   "pygments_lexer": "ipython3",
   "version": "3.9.12"
  }
 },
 "nbformat": 4,
 "nbformat_minor": 5
}
