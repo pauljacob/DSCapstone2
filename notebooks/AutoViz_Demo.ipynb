{
 "cells": [
  {
   "cell_type": "markdown",
   "metadata": {},
   "source": [
    "# AutoViz no longer displays plots automatically. You must perform %matplotlib inline just before you run AutoViz on your data."
   ]
  },
  {
   "cell_type": "code",
   "execution_count": 1,
   "metadata": {},
   "outputs": [],
   "source": [
    "import pandas as pd\n",
    "import numpy as np"
   ]
  },
  {
   "cell_type": "raw",
   "metadata": {
    "scrolled": false
   },
   "source": [
    "###########  import Autoviz_Class ################"
   ]
  },
  {
   "cell_type": "code",
   "execution_count": 20,
   "metadata": {},
   "outputs": [],
   "source": [
    "import sys\n",
    "source_directory = '/Users/pauljacob/Library/Python/3.8/lib/python/site-packages'\n",
    "\n",
    "sys.path.append(source_directory)"
   ]
  },
  {
   "cell_type": "code",
   "execution_count": 21,
   "metadata": {},
   "outputs": [
    {
     "name": "stdout",
     "output_type": "stream",
     "text": [
      "Defaulting to user installation because normal site-packages is not writeable\n",
      "Requirement already satisfied: autoviz in /Users/pauljacob/Library/Python/3.8/lib/python/site-packages (0.1.58)\n",
      "Requirement already satisfied: textblob in /Users/pauljacob/Library/Python/3.8/lib/python/site-packages (from autoviz) (0.17.1)\n",
      "Requirement already satisfied: pyamg in /Users/pauljacob/Library/Python/3.8/lib/python/site-packages (from autoviz) (4.2.3)\n",
      "Requirement already satisfied: xgboost>=0.82 in /Users/pauljacob/Library/Python/3.8/lib/python/site-packages (from autoviz) (1.6.2)\n",
      "Requirement already satisfied: panel~=0.12.6 in /Users/pauljacob/Library/Python/3.8/lib/python/site-packages (from autoviz) (0.12.7)\n",
      "Requirement already satisfied: jupyter in /Users/pauljacob/Library/Python/3.8/lib/python/site-packages (from autoviz) (1.0.0)\n",
      "Requirement already satisfied: xlrd in /Users/pauljacob/Library/Python/3.8/lib/python/site-packages (from autoviz) (2.0.1)\n",
      "Requirement already satisfied: matplotlib>=3.3.3 in /Users/pauljacob/Library/Python/3.8/lib/python/site-packages (from autoviz) (3.6.0)\n",
      "Requirement already satisfied: nltk in /Users/pauljacob/Library/Python/3.8/lib/python/site-packages (from autoviz) (3.7)\n",
      "Requirement already satisfied: emoji in /Users/pauljacob/Library/Python/3.8/lib/python/site-packages (from autoviz) (2.1.0)\n",
      "Requirement already satisfied: scikit-learn in /Users/pauljacob/Library/Python/3.8/lib/python/site-packages (from autoviz) (1.1.2)\n",
      "Requirement already satisfied: statsmodels in /Users/pauljacob/Library/Python/3.8/lib/python/site-packages (from autoviz) (0.13.2)\n",
      "Requirement already satisfied: bokeh>=2.4.2 in /Users/pauljacob/Library/Python/3.8/lib/python/site-packages (from autoviz) (2.4.3)\n",
      "Requirement already satisfied: numpy in /Users/pauljacob/Library/Python/3.8/lib/python/site-packages (from autoviz) (1.23.3)\n",
      "Requirement already satisfied: fsspec>=0.8.3 in /Users/pauljacob/Library/Python/3.8/lib/python/site-packages (from autoviz) (2022.8.2)\n",
      "Requirement already satisfied: ipython in /Users/pauljacob/Library/Python/3.8/lib/python/site-packages (from autoviz) (8.5.0)\n",
      "Requirement already satisfied: typing-extensions>=4.1.1 in /Users/pauljacob/Library/Python/3.8/lib/python/site-packages (from autoviz) (4.3.0)\n",
      "Requirement already satisfied: holoviews>=1.14.6 in /Users/pauljacob/Library/Python/3.8/lib/python/site-packages (from autoviz) (1.14.9)\n",
      "Requirement already satisfied: wordcloud in /Users/pauljacob/Library/Python/3.8/lib/python/site-packages (from autoviz) (1.8.2.2)\n",
      "Requirement already satisfied: pandas in /Users/pauljacob/Library/Python/3.8/lib/python/site-packages (from autoviz) (1.5.0)\n",
      "Requirement already satisfied: hvplot>=0.7.3 in /Users/pauljacob/Library/Python/3.8/lib/python/site-packages (from autoviz) (0.8.1)\n",
      "Requirement already satisfied: seaborn>=0.11.1 in /Users/pauljacob/Library/Python/3.8/lib/python/site-packages (from autoviz) (0.12.0)\n",
      "Requirement already satisfied: pillow>=7.1.0 in /Users/pauljacob/Library/Python/3.8/lib/python/site-packages (from bokeh>=2.4.2->autoviz) (9.2.0)\n",
      "Requirement already satisfied: Jinja2>=2.9 in /Users/pauljacob/Library/Python/3.8/lib/python/site-packages (from bokeh>=2.4.2->autoviz) (3.1.2)\n",
      "Requirement already satisfied: tornado>=5.1 in /Users/pauljacob/Library/Python/3.8/lib/python/site-packages (from bokeh>=2.4.2->autoviz) (6.2)\n",
      "Requirement already satisfied: PyYAML>=3.10 in /Users/pauljacob/Library/Python/3.8/lib/python/site-packages (from bokeh>=2.4.2->autoviz) (6.0)\n",
      "Requirement already satisfied: packaging>=16.8 in /Users/pauljacob/Library/Python/3.8/lib/python/site-packages (from bokeh>=2.4.2->autoviz) (21.3)\n",
      "Requirement already satisfied: param<2.0,>=1.9.3 in /Users/pauljacob/Library/Python/3.8/lib/python/site-packages (from holoviews>=1.14.6->autoviz) (1.12.2)\n",
      "Requirement already satisfied: colorcet in /Users/pauljacob/Library/Python/3.8/lib/python/site-packages (from holoviews>=1.14.6->autoviz) (3.0.0)\n",
      "Requirement already satisfied: pyviz-comms>=0.7.4 in /Users/pauljacob/Library/Python/3.8/lib/python/site-packages (from holoviews>=1.14.6->autoviz) (2.2.1)\n",
      "Requirement already satisfied: fonttools>=4.22.0 in /Users/pauljacob/Library/Python/3.8/lib/python/site-packages (from matplotlib>=3.3.3->autoviz) (4.37.4)\n",
      "Requirement already satisfied: cycler>=0.10 in /Users/pauljacob/Library/Python/3.8/lib/python/site-packages (from matplotlib>=3.3.3->autoviz) (0.11.0)\n",
      "Requirement already satisfied: contourpy>=1.0.1 in /Users/pauljacob/Library/Python/3.8/lib/python/site-packages (from matplotlib>=3.3.3->autoviz) (1.0.5)\n",
      "Requirement already satisfied: pyparsing>=2.2.1 in /Users/pauljacob/Library/Python/3.8/lib/python/site-packages (from matplotlib>=3.3.3->autoviz) (3.0.9)\n",
      "Requirement already satisfied: kiwisolver>=1.0.1 in /Users/pauljacob/Library/Python/3.8/lib/python/site-packages (from matplotlib>=3.3.3->autoviz) (1.4.4)\n",
      "Requirement already satisfied: python-dateutil>=2.7 in /Users/pauljacob/Library/Python/3.8/lib/python/site-packages (from matplotlib>=3.3.3->autoviz) (2.8.2)\n",
      "Requirement already satisfied: pytz>=2020.1 in /Users/pauljacob/Library/Python/3.8/lib/python/site-packages (from pandas->autoviz) (2022.4)\n",
      "Requirement already satisfied: requests in /Users/pauljacob/Library/Python/3.8/lib/python/site-packages (from panel~=0.12.6->autoviz) (2.28.1)\n",
      "Requirement already satisfied: tqdm>=4.48.0 in /Users/pauljacob/Library/Python/3.8/lib/python/site-packages (from panel~=0.12.6->autoviz) (4.64.1)\n",
      "Requirement already satisfied: markdown in /Users/pauljacob/Library/Python/3.8/lib/python/site-packages (from panel~=0.12.6->autoviz) (3.4.1)\n",
      "Requirement already satisfied: pyct>=0.4.4 in /Users/pauljacob/Library/Python/3.8/lib/python/site-packages (from panel~=0.12.6->autoviz) (0.4.8)\n",
      "Requirement already satisfied: setuptools<61,>=42 in /Library/Developer/CommandLineTools/Library/Frameworks/Python3.framework/Versions/3.8/lib/python3.8/site-packages (from panel~=0.12.6->autoviz) (49.2.1)\n",
      "Requirement already satisfied: bleach in /Users/pauljacob/Library/Python/3.8/lib/python/site-packages (from panel~=0.12.6->autoviz) (5.0.1)\n",
      "Requirement already satisfied: scipy in /Users/pauljacob/Library/Python/3.8/lib/python/site-packages (from xgboost>=0.82->autoviz) (1.9.1)\n",
      "Requirement already satisfied: traitlets>=5 in /Users/pauljacob/Library/Python/3.8/lib/python/site-packages (from ipython->autoviz) (5.4.0)\n",
      "Requirement already satisfied: pickleshare in /Users/pauljacob/Library/Python/3.8/lib/python/site-packages (from ipython->autoviz) (0.7.5)\n",
      "Requirement already satisfied: backcall in /Users/pauljacob/Library/Python/3.8/lib/python/site-packages (from ipython->autoviz) (0.2.0)\n",
      "Requirement already satisfied: matplotlib-inline in /Users/pauljacob/Library/Python/3.8/lib/python/site-packages (from ipython->autoviz) (0.1.6)\n",
      "Requirement already satisfied: decorator in /Users/pauljacob/Library/Python/3.8/lib/python/site-packages (from ipython->autoviz) (5.1.1)\n",
      "Requirement already satisfied: prompt-toolkit<3.1.0,>3.0.1 in /Users/pauljacob/Library/Python/3.8/lib/python/site-packages (from ipython->autoviz) (3.0.31)\n",
      "Requirement already satisfied: stack-data in /Users/pauljacob/Library/Python/3.8/lib/python/site-packages (from ipython->autoviz) (0.5.1)\n",
      "Requirement already satisfied: appnope in /Users/pauljacob/Library/Python/3.8/lib/python/site-packages (from ipython->autoviz) (0.1.3)\n",
      "Requirement already satisfied: pexpect>4.3 in /Users/pauljacob/Library/Python/3.8/lib/python/site-packages (from ipython->autoviz) (4.8.0)\n",
      "Requirement already satisfied: jedi>=0.16 in /Users/pauljacob/Library/Python/3.8/lib/python/site-packages (from ipython->autoviz) (0.18.1)\n",
      "Requirement already satisfied: pygments>=2.4.0 in /Users/pauljacob/Library/Python/3.8/lib/python/site-packages (from ipython->autoviz) (2.13.0)\n",
      "Requirement already satisfied: nbconvert in /Users/pauljacob/Library/Python/3.8/lib/python/site-packages (from jupyter->autoviz) (6.5.4)\n",
      "Requirement already satisfied: notebook in /Users/pauljacob/Library/Python/3.8/lib/python/site-packages (from jupyter->autoviz) (6.4.12)\n",
      "Requirement already satisfied: jupyter-console in /Users/pauljacob/Library/Python/3.8/lib/python/site-packages (from jupyter->autoviz) (6.4.4)\n",
      "Requirement already satisfied: ipywidgets in /Users/pauljacob/Library/Python/3.8/lib/python/site-packages (from jupyter->autoviz) (8.0.2)\n",
      "Requirement already satisfied: ipykernel in /Users/pauljacob/Library/Python/3.8/lib/python/site-packages (from jupyter->autoviz) (6.16.0)\n",
      "Requirement already satisfied: qtconsole in /Users/pauljacob/Library/Python/3.8/lib/python/site-packages (from jupyter->autoviz) (5.3.2)\n",
      "Requirement already satisfied: joblib in /Users/pauljacob/Library/Python/3.8/lib/python/site-packages (from nltk->autoviz) (1.2.0)\n",
      "Requirement already satisfied: click in /Users/pauljacob/Library/Python/3.8/lib/python/site-packages (from nltk->autoviz) (8.1.3)\n",
      "Requirement already satisfied: regex>=2021.8.3 in /Users/pauljacob/Library/Python/3.8/lib/python/site-packages (from nltk->autoviz) (2022.9.13)\n",
      "Requirement already satisfied: threadpoolctl>=2.0.0 in /Users/pauljacob/Library/Python/3.8/lib/python/site-packages (from scikit-learn->autoviz) (3.1.0)\n",
      "Requirement already satisfied: patsy>=0.5.2 in /Users/pauljacob/Library/Python/3.8/lib/python/site-packages (from statsmodels->autoviz) (0.5.2)\n"
     ]
    },
    {
     "name": "stdout",
     "output_type": "stream",
     "text": [
      "Requirement already satisfied: parso<0.9.0,>=0.8.0 in /Users/pauljacob/Library/Python/3.8/lib/python/site-packages (from jedi>=0.16->ipython->autoviz) (0.8.3)\n",
      "Requirement already satisfied: MarkupSafe>=2.0 in /Users/pauljacob/Library/Python/3.8/lib/python/site-packages (from Jinja2>=2.9->bokeh>=2.4.2->autoviz) (2.1.1)\n",
      "Requirement already satisfied: six in /Library/Developer/CommandLineTools/Library/Frameworks/Python3.framework/Versions/3.8/lib/python3.8/site-packages (from patsy>=0.5.2->statsmodels->autoviz) (1.15.0)\n",
      "Requirement already satisfied: ptyprocess>=0.5 in /Users/pauljacob/Library/Python/3.8/lib/python/site-packages (from pexpect>4.3->ipython->autoviz) (0.7.0)\n",
      "Requirement already satisfied: wcwidth in /Users/pauljacob/Library/Python/3.8/lib/python/site-packages (from prompt-toolkit<3.1.0,>3.0.1->ipython->autoviz) (0.2.5)\n",
      "Requirement already satisfied: webencodings in /Users/pauljacob/Library/Python/3.8/lib/python/site-packages (from bleach->panel~=0.12.6->autoviz) (0.5.1)\n",
      "Requirement already satisfied: nest-asyncio in /Users/pauljacob/Library/Python/3.8/lib/python/site-packages (from ipykernel->jupyter->autoviz) (1.5.6)\n",
      "Requirement already satisfied: jupyter-client>=6.1.12 in /Users/pauljacob/Library/Python/3.8/lib/python/site-packages (from ipykernel->jupyter->autoviz) (7.3.5)\n",
      "Requirement already satisfied: debugpy>=1.0 in /Users/pauljacob/Library/Python/3.8/lib/python/site-packages (from ipykernel->jupyter->autoviz) (1.6.3)\n",
      "Requirement already satisfied: pyzmq>=17 in /Users/pauljacob/Library/Python/3.8/lib/python/site-packages (from ipykernel->jupyter->autoviz) (24.0.1)\n",
      "Requirement already satisfied: psutil in /Users/pauljacob/Library/Python/3.8/lib/python/site-packages (from ipykernel->jupyter->autoviz) (5.9.2)\n",
      "Requirement already satisfied: widgetsnbextension~=4.0 in /Users/pauljacob/Library/Python/3.8/lib/python/site-packages (from ipywidgets->jupyter->autoviz) (4.0.3)\n",
      "Requirement already satisfied: jupyterlab-widgets~=3.0 in /Users/pauljacob/Library/Python/3.8/lib/python/site-packages (from ipywidgets->jupyter->autoviz) (3.0.3)\n",
      "Requirement already satisfied: importlib-metadata>=4.4 in /Users/pauljacob/Library/Python/3.8/lib/python/site-packages (from markdown->panel~=0.12.6->autoviz) (5.0.0)\n",
      "Requirement already satisfied: nbclient>=0.5.0 in /Users/pauljacob/Library/Python/3.8/lib/python/site-packages (from nbconvert->jupyter->autoviz) (0.6.8)\n",
      "Requirement already satisfied: tinycss2 in /Users/pauljacob/Library/Python/3.8/lib/python/site-packages (from nbconvert->jupyter->autoviz) (1.1.1)\n",
      "Requirement already satisfied: jupyterlab-pygments in /Users/pauljacob/Library/Python/3.8/lib/python/site-packages (from nbconvert->jupyter->autoviz) (0.2.2)\n",
      "Requirement already satisfied: jupyter-core>=4.7 in /Users/pauljacob/Library/Python/3.8/lib/python/site-packages (from nbconvert->jupyter->autoviz) (4.11.1)\n",
      "Requirement already satisfied: nbformat>=5.1 in /Users/pauljacob/Library/Python/3.8/lib/python/site-packages (from nbconvert->jupyter->autoviz) (5.6.1)\n",
      "Requirement already satisfied: mistune<2,>=0.8.1 in /Users/pauljacob/Library/Python/3.8/lib/python/site-packages (from nbconvert->jupyter->autoviz) (0.8.4)\n",
      "Requirement already satisfied: pandocfilters>=1.4.1 in /Users/pauljacob/Library/Python/3.8/lib/python/site-packages (from nbconvert->jupyter->autoviz) (1.5.0)\n",
      "Requirement already satisfied: beautifulsoup4 in /Users/pauljacob/Library/Python/3.8/lib/python/site-packages (from nbconvert->jupyter->autoviz) (4.11.1)\n",
      "Requirement already satisfied: defusedxml in /Users/pauljacob/Library/Python/3.8/lib/python/site-packages (from nbconvert->jupyter->autoviz) (0.7.1)\n",
      "Requirement already satisfied: entrypoints>=0.2.2 in /Users/pauljacob/Library/Python/3.8/lib/python/site-packages (from nbconvert->jupyter->autoviz) (0.4)\n",
      "Requirement already satisfied: lxml in /Users/pauljacob/Library/Python/3.8/lib/python/site-packages (from nbconvert->jupyter->autoviz) (4.9.1)\n",
      "Requirement already satisfied: Send2Trash>=1.8.0 in /Users/pauljacob/Library/Python/3.8/lib/python/site-packages (from notebook->jupyter->autoviz) (1.8.0)\n",
      "Requirement already satisfied: ipython-genutils in /Users/pauljacob/Library/Python/3.8/lib/python/site-packages (from notebook->jupyter->autoviz) (0.2.0)\n",
      "Requirement already satisfied: prometheus-client in /Users/pauljacob/Library/Python/3.8/lib/python/site-packages (from notebook->jupyter->autoviz) (0.14.1)\n",
      "Requirement already satisfied: argon2-cffi in /Users/pauljacob/Library/Python/3.8/lib/python/site-packages (from notebook->jupyter->autoviz) (21.3.0)\n",
      "Requirement already satisfied: terminado>=0.8.3 in /Users/pauljacob/Library/Python/3.8/lib/python/site-packages (from notebook->jupyter->autoviz) (0.16.0)\n",
      "Requirement already satisfied: qtpy>=2.0.1 in /Users/pauljacob/Library/Python/3.8/lib/python/site-packages (from qtconsole->jupyter->autoviz) (2.2.0)\n",
      "Requirement already satisfied: certifi>=2017.4.17 in /Users/pauljacob/Library/Python/3.8/lib/python/site-packages (from requests->panel~=0.12.6->autoviz) (2022.9.24)\n",
      "Requirement already satisfied: idna<4,>=2.5 in /Users/pauljacob/Library/Python/3.8/lib/python/site-packages (from requests->panel~=0.12.6->autoviz) (3.4)\n",
      "Requirement already satisfied: charset-normalizer<3,>=2 in /Users/pauljacob/Library/Python/3.8/lib/python/site-packages (from requests->panel~=0.12.6->autoviz) (2.1.1)\n",
      "Requirement already satisfied: urllib3<1.27,>=1.21.1 in /Users/pauljacob/Library/Python/3.8/lib/python/site-packages (from requests->panel~=0.12.6->autoviz) (1.26.12)\n",
      "Requirement already satisfied: executing in /Users/pauljacob/Library/Python/3.8/lib/python/site-packages (from stack-data->ipython->autoviz) (1.1.0)\n",
      "Requirement already satisfied: asttokens in /Users/pauljacob/Library/Python/3.8/lib/python/site-packages (from stack-data->ipython->autoviz) (2.0.8)\n",
      "Requirement already satisfied: pure-eval in /Users/pauljacob/Library/Python/3.8/lib/python/site-packages (from stack-data->ipython->autoviz) (0.2.2)\n",
      "Requirement already satisfied: zipp>=0.5 in /Users/pauljacob/Library/Python/3.8/lib/python/site-packages (from importlib-metadata>=4.4->markdown->panel~=0.12.6->autoviz) (3.8.1)\n",
      "Requirement already satisfied: fastjsonschema in /Users/pauljacob/Library/Python/3.8/lib/python/site-packages (from nbformat>=5.1->nbconvert->jupyter->autoviz) (2.16.2)\n",
      "Requirement already satisfied: jsonschema>=2.6 in /Users/pauljacob/Library/Python/3.8/lib/python/site-packages (from nbformat>=5.1->nbconvert->jupyter->autoviz) (4.16.0)\n",
      "Requirement already satisfied: argon2-cffi-bindings in /Users/pauljacob/Library/Python/3.8/lib/python/site-packages (from argon2-cffi->notebook->jupyter->autoviz) (21.2.0)\n",
      "Requirement already satisfied: soupsieve>1.2 in /Users/pauljacob/Library/Python/3.8/lib/python/site-packages (from beautifulsoup4->nbconvert->jupyter->autoviz) (2.3.2.post1)\n",
      "Requirement already satisfied: importlib-resources>=1.4.0 in /Users/pauljacob/Library/Python/3.8/lib/python/site-packages (from jsonschema>=2.6->nbformat>=5.1->nbconvert->jupyter->autoviz) (5.9.0)\n",
      "Requirement already satisfied: attrs>=17.4.0 in /Users/pauljacob/Library/Python/3.8/lib/python/site-packages (from jsonschema>=2.6->nbformat>=5.1->nbconvert->jupyter->autoviz) (22.1.0)\n",
      "Requirement already satisfied: pyrsistent!=0.17.0,!=0.17.1,!=0.17.2,>=0.14.0 in /Users/pauljacob/Library/Python/3.8/lib/python/site-packages (from jsonschema>=2.6->nbformat>=5.1->nbconvert->jupyter->autoviz) (0.18.1)\n",
      "Requirement already satisfied: pkgutil-resolve-name>=1.3.10 in /Users/pauljacob/Library/Python/3.8/lib/python/site-packages (from jsonschema>=2.6->nbformat>=5.1->nbconvert->jupyter->autoviz) (1.3.10)\n",
      "Requirement already satisfied: cffi>=1.0.1 in /Users/pauljacob/Library/Python/3.8/lib/python/site-packages (from argon2-cffi-bindings->argon2-cffi->notebook->jupyter->autoviz) (1.15.1)\n",
      "Requirement already satisfied: pycparser in /Users/pauljacob/Library/Python/3.8/lib/python/site-packages (from cffi>=1.0.1->argon2-cffi-bindings->argon2-cffi->notebook->jupyter->autoviz) (2.21)\n"
     ]
    }
   ],
   "source": [
    "!pip3 install autoviz"
   ]
  },
  {
   "cell_type": "code",
   "execution_count": 28,
   "metadata": {},
   "outputs": [
    {
     "name": "stdout",
     "output_type": "stream",
     "text": [
      "Defaulting to user installation because normal site-packages is not writeable\n",
      "Requirement already satisfied: wordcloud in /Users/pauljacob/Library/Python/3.8/lib/python/site-packages (1.8.2.2)\n",
      "\u001b[31mERROR: Could not find a version that satisfies the requirement 1.6.0 (from versions: none)\u001b[0m\u001b[31m\n",
      "\u001b[0m\u001b[31mERROR: No matching distribution found for 1.6.0\u001b[0m\u001b[31m\n",
      "\u001b[0m"
     ]
    }
   ],
   "source": [
    "!pip3 install wordcloud 1.6.0"
   ]
  },
  {
   "cell_type": "code",
   "execution_count": 32,
   "metadata": {},
   "outputs": [
    {
     "name": "stdout",
     "output_type": "stream",
     "text": [
      "Defaulting to user installation because normal site-packages is not writeable\n",
      "Requirement already satisfied: wordcloud in /Users/pauljacob/Library/Python/3.8/lib/python/site-packages (1.8.2.2)\n",
      "Requirement already satisfied: matplotlib in /Users/pauljacob/Library/Python/3.8/lib/python/site-packages (from wordcloud) (3.6.0)\n",
      "Requirement already satisfied: pillow in /Users/pauljacob/Library/Python/3.8/lib/python/site-packages (from wordcloud) (9.2.0)\n",
      "Requirement already satisfied: numpy>=1.6.1 in /Users/pauljacob/Library/Python/3.8/lib/python/site-packages (from wordcloud) (1.23.3)\n",
      "Requirement already satisfied: kiwisolver>=1.0.1 in /Users/pauljacob/Library/Python/3.8/lib/python/site-packages (from matplotlib->wordcloud) (1.4.4)\n",
      "Requirement already satisfied: cycler>=0.10 in /Users/pauljacob/Library/Python/3.8/lib/python/site-packages (from matplotlib->wordcloud) (0.11.0)\n",
      "Requirement already satisfied: fonttools>=4.22.0 in /Users/pauljacob/Library/Python/3.8/lib/python/site-packages (from matplotlib->wordcloud) (4.37.4)\n",
      "Requirement already satisfied: pyparsing>=2.2.1 in /Users/pauljacob/Library/Python/3.8/lib/python/site-packages (from matplotlib->wordcloud) (3.0.9)\n",
      "Requirement already satisfied: contourpy>=1.0.1 in /Users/pauljacob/Library/Python/3.8/lib/python/site-packages (from matplotlib->wordcloud) (1.0.5)\n",
      "Requirement already satisfied: python-dateutil>=2.7 in /Users/pauljacob/Library/Python/3.8/lib/python/site-packages (from matplotlib->wordcloud) (2.8.2)\n",
      "Requirement already satisfied: packaging>=20.0 in /Users/pauljacob/Library/Python/3.8/lib/python/site-packages (from matplotlib->wordcloud) (21.3)\n",
      "Requirement already satisfied: six>=1.5 in /Library/Developer/CommandLineTools/Library/Frameworks/Python3.framework/Versions/3.8/lib/python3.8/site-packages (from python-dateutil>=2.7->matplotlib->wordcloud) (1.15.0)\n"
     ]
    }
   ],
   "source": [
    "!pip3 install --upgrade wordcloud"
   ]
  },
  {
   "cell_type": "code",
   "execution_count": 26,
   "metadata": {},
   "outputs": [
    {
     "name": "stdout",
     "output_type": "stream",
     "text": [
      "zsh:1: command not found: wordcloud\r\n"
     ]
    }
   ],
   "source": [
    "!wordcloud --version"
   ]
  },
  {
   "cell_type": "code",
   "execution_count": 27,
   "metadata": {},
   "outputs": [
    {
     "name": "stdout",
     "output_type": "stream",
     "text": [
      "altair==4.2.0\r\n",
      "appnope==0.1.3\r\n",
      "argon2-cffi==21.3.0\r\n",
      "argon2-cffi-bindings==21.2.0\r\n",
      "arrow==1.2.3\r\n",
      "asttokens==2.0.8\r\n",
      "attrs==22.1.0\r\n",
      "autoviz==0.1.58\r\n",
      "backcall==0.2.0\r\n",
      "backoff==1.11.1\r\n",
      "beautifulsoup4==4.11.1\r\n",
      "binaryornot==0.4.4\r\n",
      "bleach==5.0.1\r\n",
      "bokeh==2.4.3\r\n",
      "boltons==21.0.0\r\n",
      "catboost==1.1\r\n",
      "certifi==2022.9.24\r\n",
      "cffi==1.15.1\r\n",
      "chardet==5.0.0\r\n",
      "charset-normalizer==2.1.1\r\n",
      "citeproc-py==0.6.0\r\n",
      "click==8.1.3\r\n",
      "click-spinner==0.1.10\r\n",
      "colorcet==3.0.0\r\n",
      "colorlog==6.7.0\r\n",
      "contourpy==1.0.5\r\n",
      "cookiecutter==2.1.1\r\n",
      "cycler==0.11.0\r\n",
      "dacite==1.6.0\r\n",
      "datacommons==1.4.3\r\n",
      "datacommons-pandas==0.0.3\r\n",
      "datapane==0.15.3\r\n",
      "debugpy==1.6.3\r\n",
      "decorator==5.1.1\r\n",
      "defusedxml==0.7.1\r\n",
      "dominate==2.7.0\r\n",
      "duecredit==0.9.1\r\n",
      "dulwich==0.20.46\r\n",
      "emoji==2.1.0\r\n",
      "entrypoints==0.4\r\n",
      "enum34==1.1.10\r\n",
      "executing==1.1.0\r\n",
      "face==20.1.1\r\n",
      "fastjsonschema==2.16.2\r\n",
      "fonttools==4.37.4\r\n",
      "forestci==0.6\r\n",
      "fsspec==2022.8.2\r\n",
      "furl==2.1.3\r\n",
      "glom==22.1.0\r\n",
      "graphviz==0.20.1\r\n",
      "holoviews==1.14.9\r\n",
      "hvplot==0.8.1\r\n",
      "idna==3.4\r\n",
      "importlib-metadata==5.0.0\r\n",
      "importlib-resources==5.9.0\r\n",
      "ipykernel==6.16.0\r\n",
      "ipython==8.5.0\r\n",
      "ipython-autotime==0.3.1\r\n",
      "ipython-genutils==0.2.0\r\n",
      "ipywidgets==8.0.2\r\n",
      "jedi==0.18.1\r\n",
      "Jinja2==3.1.2\r\n",
      "jinja2-time==0.2.0\r\n",
      "joblib==1.2.0\r\n",
      "jsonschema==4.16.0\r\n",
      "jupyter==1.0.0\r\n",
      "jupyter-console==6.4.4\r\n",
      "jupyter-core==4.11.1\r\n",
      "jupyter_client==7.3.5\r\n",
      "jupyterlab-pygments==0.2.2\r\n",
      "jupyterlab-widgets==3.0.3\r\n",
      "kiwisolver==1.4.4\r\n",
      "lxml==4.9.1\r\n",
      "Markdown==3.4.1\r\n",
      "MarkupSafe==2.1.1\r\n",
      "matplotlib==3.6.0\r\n",
      "matplotlib-inline==0.1.6\r\n",
      "micawber==0.5.4\r\n",
      "mistune==0.8.4\r\n",
      "monotonic==1.6\r\n",
      "munch==2.5.0\r\n",
      "nbclient==0.6.8\r\n",
      "nbconvert==6.5.4\r\n",
      "nbformat==5.6.1\r\n",
      "nest-asyncio==1.5.6\r\n",
      "nltk==3.7\r\n",
      "notebook==6.4.12\r\n",
      "numpy==1.23.3\r\n",
      "orderedmultidict==1.0.1\r\n",
      "packaging==21.3\r\n",
      "pandas==1.5.0\r\n",
      "pandas-ml==0.6.1\r\n",
      "pandocfilters==1.5.0\r\n",
      "panel==0.12.7\r\n",
      "param==1.12.2\r\n",
      "parso==0.8.3\r\n",
      "patsy==0.5.2\r\n",
      "pexpect==4.8.0\r\n",
      "pickleshare==0.7.5\r\n",
      "Pillow==9.2.0\r\n",
      "pkgutil_resolve_name==1.3.10\r\n",
      "plotly==5.10.0\r\n",
      "posthog==2.1.2\r\n",
      "prometheus-client==0.14.1\r\n",
      "prompt-toolkit==3.0.31\r\n",
      "psutil==5.9.2\r\n",
      "ptyprocess==0.7.0\r\n",
      "pure-eval==0.2.2\r\n",
      "pyamg==4.2.3\r\n",
      "pyarrow==6.0.1\r\n",
      "pycparser==2.21\r\n",
      "pyct==0.4.8\r\n",
      "pydantic==1.10.2\r\n",
      "pydotplus==2.0.2\r\n",
      "Pygments==2.13.0\r\n",
      "pyparsing==3.0.9\r\n",
      "pyrsistent==0.18.1\r\n",
      "python-dateutil==2.8.2\r\n",
      "python-slugify==6.1.2\r\n",
      "pytz==2022.4\r\n",
      "pyviz-comms==2.2.1\r\n",
      "PyYAML==6.0\r\n",
      "pyzmq==24.0.1\r\n",
      "qtconsole==5.3.2\r\n",
      "QtPy==2.2.0\r\n",
      "regex==2022.9.13\r\n",
      "requests==2.28.1\r\n",
      "requests-toolbelt==0.9.1\r\n",
      "scikit-learn==1.1.2\r\n",
      "scipy==1.9.1\r\n",
      "seaborn==0.12.0\r\n",
      "Send2Trash==1.8.0\r\n",
      "six @ file:///AppleInternal/BuildRoot/Library/Caches/com.apple.xbs/Sources/python3/python3-103/six-1.15.0-py2.py3-none-any.whl\r\n",
      "soupsieve==2.3.2.post1\r\n",
      "stack-data==0.5.1\r\n",
      "statsmodels==0.13.2\r\n",
      "stringcase==1.2.0\r\n",
      "tabulate==0.8.10\r\n",
      "tenacity==8.1.0\r\n",
      "terminado==0.16.0\r\n",
      "text-unidecode==1.3\r\n",
      "textblob==0.17.1\r\n",
      "threadpoolctl==3.1.0\r\n",
      "tinycss2==1.1.1\r\n",
      "toolz==0.12.0\r\n",
      "tornado==6.2\r\n",
      "tqdm==4.64.1\r\n",
      "traitlets==5.4.0\r\n",
      "typing_extensions==4.3.0\r\n",
      "urllib3==1.26.12\r\n",
      "validators==0.20.0\r\n",
      "vega-datasets==0.9.0\r\n",
      "watermark==2.3.1\r\n",
      "wcwidth==0.2.5\r\n",
      "webencodings==0.5.1\r\n",
      "widgetsnbextension==4.0.3\r\n",
      "wordcloud==1.8.2.2\r\n",
      "xgboost==1.6.2\r\n",
      "xlrd==2.0.1\r\n",
      "zipp==3.8.1\r\n"
     ]
    }
   ],
   "source": [
    "!pip3 freeze"
   ]
  },
  {
   "cell_type": "code",
   "execution_count": 33,
   "metadata": {},
   "outputs": [
    {
     "name": "stdout",
     "output_type": "stream",
     "text": [
      "Defaulting to user installation because normal site-packages is not writeable\n",
      "\u001b[31mERROR: Could not find a version that satisfies the requirement wordcloud.query_integral_image (from versions: none)\u001b[0m\u001b[31m\n",
      "\u001b[0m\u001b[31mERROR: No matching distribution found for wordcloud.query_integral_image\u001b[0m\u001b[31m\n",
      "\u001b[0m"
     ]
    }
   ],
   "source": [
    "!pip3 install wordcloud.query_integral_image\n",
    "\n",
    "#1.6.0\n"
   ]
  },
  {
   "cell_type": "code",
   "execution_count": 34,
   "metadata": {},
   "outputs": [
    {
     "ename": "ModuleNotFoundError",
     "evalue": "No module named 'wordcloud.query_integral_image'",
     "output_type": "error",
     "traceback": [
      "\u001b[0;31m---------------------------------------------------------------------------\u001b[0m",
      "\u001b[0;31mModuleNotFoundError\u001b[0m                       Traceback (most recent call last)",
      "Input \u001b[0;32mIn [34]\u001b[0m, in \u001b[0;36m<cell line: 1>\u001b[0;34m()\u001b[0m\n\u001b[0;32m----> 1\u001b[0m \u001b[38;5;28;01mfrom\u001b[39;00m \u001b[38;5;21;01mautoviz\u001b[39;00m\u001b[38;5;21;01m.\u001b[39;00m\u001b[38;5;21;01mAutoViz_Class\u001b[39;00m \u001b[38;5;28;01mimport\u001b[39;00m AutoViz_Class\n",
      "File \u001b[0;32m~/Library/Python/3.8/lib/python/site-packages/autoviz/__init__.py:3\u001b[0m, in \u001b[0;36m<module>\u001b[0;34m\u001b[0m\n\u001b[1;32m      1\u001b[0m name \u001b[38;5;241m=\u001b[39m \u001b[38;5;124m\"\u001b[39m\u001b[38;5;124mautoviz\u001b[39m\u001b[38;5;124m\"\u001b[39m\n\u001b[1;32m      2\u001b[0m \u001b[38;5;28;01mfrom\u001b[39;00m \u001b[38;5;21;01m.\u001b[39;00m\u001b[38;5;21;01m__version__\u001b[39;00m \u001b[38;5;28;01mimport\u001b[39;00m __version__, __holo_version__\n\u001b[0;32m----> 3\u001b[0m \u001b[38;5;28;01mfrom\u001b[39;00m \u001b[38;5;21;01m.\u001b[39;00m\u001b[38;5;21;01mAutoViz_Class\u001b[39;00m \u001b[38;5;28;01mimport\u001b[39;00m AutoViz_Class\n\u001b[1;32m      4\u001b[0m \u001b[38;5;28;01mfrom\u001b[39;00m \u001b[38;5;21;01m.\u001b[39;00m\u001b[38;5;21;01mclassify_method\u001b[39;00m \u001b[38;5;28;01mimport\u001b[39;00m data_cleaning_suggestions\n\u001b[1;32m      5\u001b[0m \u001b[38;5;28;01mif\u001b[39;00m \u001b[38;5;18m__name__\u001b[39m \u001b[38;5;241m==\u001b[39m \u001b[38;5;124m\"\u001b[39m\u001b[38;5;124m__main__\u001b[39m\u001b[38;5;124m\"\u001b[39m:\n",
      "File \u001b[0;32m~/Library/Python/3.8/lib/python/site-packages/autoviz/AutoViz_Class.py:63\u001b[0m, in \u001b[0;36m<module>\u001b[0;34m\u001b[0m\n\u001b[1;32m     61\u001b[0m \u001b[38;5;28;01mfrom\u001b[39;00m \u001b[38;5;21;01mautoviz\u001b[39;00m\u001b[38;5;21;01m.\u001b[39;00m\u001b[38;5;21;01mAutoViz_Holo\u001b[39;00m \u001b[38;5;28;01mimport\u001b[39;00m AutoViz_Holo\n\u001b[1;32m     62\u001b[0m \u001b[38;5;28;01mfrom\u001b[39;00m \u001b[38;5;21;01mautoviz\u001b[39;00m\u001b[38;5;21;01m.\u001b[39;00m\u001b[38;5;21;01mAutoViz_Utils\u001b[39;00m \u001b[38;5;28;01mimport\u001b[39;00m \u001b[38;5;241m*\u001b[39m\n\u001b[0;32m---> 63\u001b[0m \u001b[38;5;28;01mfrom\u001b[39;00m \u001b[38;5;21;01mautoviz\u001b[39;00m\u001b[38;5;21;01m.\u001b[39;00m\u001b[38;5;21;01mAutoViz_NLP\u001b[39;00m \u001b[38;5;28;01mimport\u001b[39;00m draw_word_clouds\n\u001b[1;32m     64\u001b[0m \u001b[38;5;28;01mfrom\u001b[39;00m \u001b[38;5;21;01mautoviz\u001b[39;00m\u001b[38;5;21;01m.\u001b[39;00m\u001b[38;5;21;01mclassify_method\u001b[39;00m \u001b[38;5;28;01mimport\u001b[39;00m data_suggestions\n\u001b[1;32m     65\u001b[0m \u001b[38;5;66;03m#####################################################\u001b[39;00m\n",
      "File \u001b[0;32m~/Library/Python/3.8/lib/python/site-packages/autoviz/AutoViz_NLP.py:543\u001b[0m, in \u001b[0;36m<module>\u001b[0;34m\u001b[0m\n\u001b[1;32m    541\u001b[0m \u001b[38;5;66;03m################################################################################\u001b[39;00m\n\u001b[1;32m    542\u001b[0m \u001b[38;5;28;01mimport\u001b[39;00m \u001b[38;5;21;01mre\u001b[39;00m\n\u001b[0;32m--> 543\u001b[0m \u001b[38;5;28;01mfrom\u001b[39;00m \u001b[38;5;21;01mwordcloud\u001b[39;00m \u001b[38;5;28;01mimport\u001b[39;00m WordCloud, STOPWORDS\n\u001b[1;32m    544\u001b[0m \u001b[38;5;28;01mimport\u001b[39;00m \u001b[38;5;21;01mmatplotlib\u001b[39;00m\u001b[38;5;21;01m.\u001b[39;00m\u001b[38;5;21;01mpyplot\u001b[39;00m \u001b[38;5;28;01mas\u001b[39;00m \u001b[38;5;21;01mplt\u001b[39;00m\n\u001b[1;32m    545\u001b[0m \u001b[38;5;28;01mfrom\u001b[39;00m \u001b[38;5;21;01mtextblob\u001b[39;00m \u001b[38;5;28;01mimport\u001b[39;00m TextBlob, Word\n",
      "File \u001b[0;32m~/Library/Python/3.8/lib/python/site-packages/wordcloud/__init__.py:1\u001b[0m, in \u001b[0;36m<module>\u001b[0;34m\u001b[0m\n\u001b[0;32m----> 1\u001b[0m \u001b[38;5;28;01mfrom\u001b[39;00m \u001b[38;5;21;01m.\u001b[39;00m\u001b[38;5;21;01mwordcloud\u001b[39;00m \u001b[38;5;28;01mimport\u001b[39;00m (WordCloud, STOPWORDS, random_color_func,\n\u001b[1;32m      2\u001b[0m                         get_single_color_func)\n\u001b[1;32m      3\u001b[0m \u001b[38;5;28;01mfrom\u001b[39;00m \u001b[38;5;21;01m.\u001b[39;00m\u001b[38;5;21;01mcolor_from_image\u001b[39;00m \u001b[38;5;28;01mimport\u001b[39;00m ImageColorGenerator\n\u001b[1;32m      5\u001b[0m __all__ \u001b[38;5;241m=\u001b[39m [\u001b[38;5;124m'\u001b[39m\u001b[38;5;124mWordCloud\u001b[39m\u001b[38;5;124m'\u001b[39m, \u001b[38;5;124m'\u001b[39m\u001b[38;5;124mSTOPWORDS\u001b[39m\u001b[38;5;124m'\u001b[39m, \u001b[38;5;124m'\u001b[39m\u001b[38;5;124mrandom_color_func\u001b[39m\u001b[38;5;124m'\u001b[39m,\n\u001b[1;32m      6\u001b[0m            \u001b[38;5;124m'\u001b[39m\u001b[38;5;124mget_single_color_func\u001b[39m\u001b[38;5;124m'\u001b[39m, \u001b[38;5;124m'\u001b[39m\u001b[38;5;124mImageColorGenerator\u001b[39m\u001b[38;5;124m'\u001b[39m,\n\u001b[1;32m      7\u001b[0m            \u001b[38;5;124m'\u001b[39m\u001b[38;5;124m__version__\u001b[39m\u001b[38;5;124m'\u001b[39m]\n",
      "File \u001b[0;32m~/Library/Python/3.8/lib/python/site-packages/wordcloud/wordcloud.py:30\u001b[0m, in \u001b[0;36m<module>\u001b[0;34m\u001b[0m\n\u001b[1;32m     27\u001b[0m \u001b[38;5;28;01mfrom\u001b[39;00m \u001b[38;5;21;01mPIL\u001b[39;00m \u001b[38;5;28;01mimport\u001b[39;00m ImageFilter\n\u001b[1;32m     28\u001b[0m \u001b[38;5;28;01mfrom\u001b[39;00m \u001b[38;5;21;01mPIL\u001b[39;00m \u001b[38;5;28;01mimport\u001b[39;00m ImageFont\n\u001b[0;32m---> 30\u001b[0m \u001b[38;5;28;01mfrom\u001b[39;00m \u001b[38;5;21;01m.\u001b[39;00m\u001b[38;5;21;01mquery_integral_image\u001b[39;00m \u001b[38;5;28;01mimport\u001b[39;00m query_integral_image\n\u001b[1;32m     31\u001b[0m \u001b[38;5;28;01mfrom\u001b[39;00m \u001b[38;5;21;01m.\u001b[39;00m\u001b[38;5;21;01mtokenization\u001b[39;00m \u001b[38;5;28;01mimport\u001b[39;00m unigrams_and_bigrams, process_tokens\n\u001b[1;32m     33\u001b[0m FILE \u001b[38;5;241m=\u001b[39m os\u001b[38;5;241m.\u001b[39mpath\u001b[38;5;241m.\u001b[39mdirname(\u001b[38;5;18m__file__\u001b[39m)\n",
      "\u001b[0;31mModuleNotFoundError\u001b[0m: No module named 'wordcloud.query_integral_image'"
     ]
    }
   ],
   "source": [
    "from autoviz.AutoViz_Class import AutoViz_Class"
   ]
  },
  {
   "cell_type": "raw",
   "metadata": {
    "scrolled": false
   },
   "source": [
    "###########  set up the data #####################"
   ]
  },
  {
   "cell_type": "code",
   "execution_count": null,
   "metadata": {},
   "outputs": [],
   "source": [
    "filename = 'https://raw.githubusercontent.com/vincentarelbundock/Rdatasets/master/csv/MASS/Boston.csv'\n",
    "depVar = 'medv'\n",
    "sep=','"
   ]
  },
  {
   "cell_type": "raw",
   "metadata": {
    "scrolled": false
   },
   "source": [
    "###########  Create the autoviz_class #############"
   ]
  },
  {
   "cell_type": "code",
   "execution_count": null,
   "metadata": {},
   "outputs": [],
   "source": [
    "AV = AutoViz_Class()"
   ]
  },
  {
   "cell_type": "raw",
   "metadata": {
    "scrolled": false
   },
   "source": [
    "###########  do %matplotlib inline now ############"
   ]
  },
  {
   "cell_type": "code",
   "execution_count": null,
   "metadata": {},
   "outputs": [],
   "source": [
    "%matplotlib inline"
   ]
  },
  {
   "cell_type": "raw",
   "metadata": {
    "scrolled": false
   },
   "source": [
    "###########  Now run Autoviz ######################"
   ]
  },
  {
   "cell_type": "code",
   "execution_count": null,
   "metadata": {
    "scrolled": false
   },
   "outputs": [],
   "source": [
    "_ = AV.AutoViz(filename)"
   ]
  },
  {
   "cell_type": "code",
   "execution_count": null,
   "metadata": {},
   "outputs": [],
   "source": []
  }
 ],
 "metadata": {
  "kernelspec": {
   "display_name": "Python 3 (ipykernel)",
   "language": "python",
   "name": "python3"
  },
  "language_info": {
   "codemirror_mode": {
    "name": "ipython",
    "version": 3
   },
   "file_extension": ".py",
   "mimetype": "text/x-python",
   "name": "python",
   "nbconvert_exporter": "python",
   "pygments_lexer": "ipython3",
   "version": "3.9.12"
  }
 },
 "nbformat": 4,
 "nbformat_minor": 2
}
